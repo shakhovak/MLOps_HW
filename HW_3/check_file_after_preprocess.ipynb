{
 "cells": [
  {
   "cell_type": "markdown",
   "id": "8f935e0a",
   "metadata": {},
   "source": [
    "# Проверяем файлы в кластере и устанавливаем библиотеки"
   ]
  },
  {
   "cell_type": "code",
   "execution_count": 1,
   "id": "eebdbb88",
   "metadata": {},
   "outputs": [
    {
     "data": {
      "text/plain": [
       "'/usr/lib/spark'"
      ]
     },
     "execution_count": 1,
     "metadata": {},
     "output_type": "execute_result"
    }
   ],
   "source": [
    "import findspark\n",
    "findspark.init()\n",
    "findspark.find()"
   ]
  },
  {
   "cell_type": "code",
   "execution_count": 2,
   "id": "51c75897",
   "metadata": {},
   "outputs": [],
   "source": [
    "import pyspark\n",
    "app_name = \"myApp\" # Ваше имя\n",
    "spark_ui_port = 4040 # Порт для spark ui\n",
    "\n",
    "spark = (\n",
    "    pyspark.sql.SparkSession.builder\n",
    "        .appName(app_name) # имя приложения ? Нужно для отслеживания таски выполнения\n",
    "        .config(\"spark.executor.cores\", \"4\")        \n",
    "        .config(\"spark.executor.memory\", \"4g\") # Executor просее. Ориенир для потребления помаяти. \n",
    "        .config(\"spark.executor.instances\", \"6\")    \n",
    "        .config(\"spark.default.parallelism\", \"48\")\n",
    "        .config(\"spark.driver.memory\", \"4g\") # Main процесс\n",
    "        .config(\"spark.ui.port\", spark_ui_port)\n",
    "        .getOrCreate()\n",
    ")\n",
    "spark.conf.set('spark.sql.repl.eagerEval.enabled', True)  # to pretty print pyspark.DataFrame in jupyter"
   ]
  },
  {
   "cell_type": "code",
   "execution_count": 3,
   "id": "ca101e35",
   "metadata": {},
   "outputs": [],
   "source": [
    "df = spark.read.parquet('s3a://mlopsshakhova/output_fin.parquet')"
   ]
  },
  {
   "cell_type": "code",
   "execution_count": 4,
   "id": "d2474401",
   "metadata": {},
   "outputs": [
    {
     "name": "stdout",
     "output_type": "stream",
     "text": [
      "Data overview\n",
      "root\n",
      " |-- tranaction_id: integer (nullable = true)\n",
      " |-- tx_datetime: timestamp (nullable = true)\n",
      " |-- customer_id: integer (nullable = true)\n",
      " |-- terminal_id: integer (nullable = true)\n",
      " |-- tx_amount: float (nullable = true)\n",
      " |-- tx_time_seconds: integer (nullable = true)\n",
      " |-- tx_time_days: integer (nullable = true)\n",
      " |-- tx_fraud: integer (nullable = true)\n",
      " |-- tx_fraud_scenario: integer (nullable = true)\n",
      "\n",
      "Columns overview\n"
     ]
    },
    {
     "data": {
      "text/html": [
       "<div>\n",
       "<style scoped>\n",
       "    .dataframe tbody tr th:only-of-type {\n",
       "        vertical-align: middle;\n",
       "    }\n",
       "\n",
       "    .dataframe tbody tr th {\n",
       "        vertical-align: top;\n",
       "    }\n",
       "\n",
       "    .dataframe thead th {\n",
       "        text-align: right;\n",
       "    }\n",
       "</style>\n",
       "<table border=\"1\" class=\"dataframe\">\n",
       "  <thead>\n",
       "    <tr style=\"text-align: right;\">\n",
       "      <th></th>\n",
       "      <th>Column Name</th>\n",
       "      <th>Data type</th>\n",
       "    </tr>\n",
       "  </thead>\n",
       "  <tbody>\n",
       "    <tr>\n",
       "      <th>0</th>\n",
       "      <td>tranaction_id</td>\n",
       "      <td>int</td>\n",
       "    </tr>\n",
       "    <tr>\n",
       "      <th>1</th>\n",
       "      <td>tx_datetime</td>\n",
       "      <td>timestamp</td>\n",
       "    </tr>\n",
       "    <tr>\n",
       "      <th>2</th>\n",
       "      <td>customer_id</td>\n",
       "      <td>int</td>\n",
       "    </tr>\n",
       "    <tr>\n",
       "      <th>3</th>\n",
       "      <td>terminal_id</td>\n",
       "      <td>int</td>\n",
       "    </tr>\n",
       "    <tr>\n",
       "      <th>4</th>\n",
       "      <td>tx_amount</td>\n",
       "      <td>float</td>\n",
       "    </tr>\n",
       "    <tr>\n",
       "      <th>5</th>\n",
       "      <td>tx_time_seconds</td>\n",
       "      <td>int</td>\n",
       "    </tr>\n",
       "    <tr>\n",
       "      <th>6</th>\n",
       "      <td>tx_time_days</td>\n",
       "      <td>int</td>\n",
       "    </tr>\n",
       "    <tr>\n",
       "      <th>7</th>\n",
       "      <td>tx_fraud</td>\n",
       "      <td>int</td>\n",
       "    </tr>\n",
       "    <tr>\n",
       "      <th>8</th>\n",
       "      <td>tx_fraud_scenario</td>\n",
       "      <td>int</td>\n",
       "    </tr>\n",
       "  </tbody>\n",
       "</table>\n",
       "</div>"
      ],
      "text/plain": [
       "         Column Name  Data type\n",
       "0      tranaction_id        int\n",
       "1        tx_datetime  timestamp\n",
       "2        customer_id        int\n",
       "3        terminal_id        int\n",
       "4          tx_amount      float\n",
       "5    tx_time_seconds        int\n",
       "6       tx_time_days        int\n",
       "7           tx_fraud        int\n",
       "8  tx_fraud_scenario        int"
      ]
     },
     "execution_count": 4,
     "metadata": {},
     "output_type": "execute_result"
    }
   ],
   "source": [
    "import pandas as pd\n",
    "\n",
    "print('Data overview')\n",
    "df.printSchema()\n",
    "print('Columns overview')\n",
    "pd.DataFrame(df.dtypes, columns = ['Column Name','Data type'])"
   ]
  },
  {
   "cell_type": "code",
   "execution_count": 5,
   "id": "6531ef5b",
   "metadata": {},
   "outputs": [
    {
     "name": "stdout",
     "output_type": "stream",
     "text": [
      "+-------------+-------------------+-----------+-----------+---------+---------------+------------+--------+-----------------+\n",
      "|tranaction_id|        tx_datetime|customer_id|terminal_id|tx_amount|tx_time_seconds|tx_time_days|tx_fraud|tx_fraud_scenario|\n",
      "+-------------+-------------------+-----------+-----------+---------+---------------+------------+--------+-----------------+\n",
      "|          148|2019-08-22 10:01:24|         95|          0|    16.69|          36084|           0|       0|                0|\n",
      "|          463|2019-08-22 16:54:03|        307|        683|    68.07|          60843|           0|       0|                0|\n",
      "|          471|2019-08-22 08:34:07|        312|         63|   123.38|          30847|           0|       0|                0|\n",
      "|          496|2019-08-22 06:58:00|        335|        289|   166.28|          25080|           0|       0|                0|\n",
      "|          833|2019-08-22 20:24:06|        531|        189|    28.71|          73446|           0|       0|                0|\n",
      "|         1088|2019-08-22 07:06:14|        675|        503|    43.21|          25574|           0|       0|                0|\n",
      "|         1238|2019-08-22 14:00:47|        776|        748|    98.52|          50447|           0|       0|                0|\n",
      "|         1342|2019-08-22 14:45:23|        843|        937|   100.66|          53123|           0|       0|                0|\n",
      "|         1580|2019-08-22 03:39:32|        990|        429|    40.09|          13172|           0|       0|                0|\n",
      "|         1591|2019-08-22 05:41:13|        997|        669|    39.71|          20473|           0|       0|                0|\n",
      "|         1645|2019-08-22 04:32:23|       1031|         81|    36.05|          16343|           0|       0|                0|\n",
      "|         1829|2019-08-22 12:52:46|       1152|        984|    18.01|          46366|           0|       1|                2|\n",
      "|         1959|2019-08-22 16:24:53|       1242|        179|     23.7|          59093|           0|       0|                0|\n",
      "|         2122|2019-08-22 06:59:09|       1358|        151|    20.81|          25149|           0|       0|                0|\n",
      "|         2142|2019-08-22 11:23:42|       1374|        903|    85.03|          41022|           0|       0|                0|\n",
      "|         2366|2019-08-22 14:32:04|       1529|          0|    15.87|          52324|           0|       0|                0|\n",
      "|         2659|2019-08-22 18:14:08|       1710|        284|    15.81|          65648|           0|       0|                0|\n",
      "|         2866|2019-08-22 03:43:00|       1836|         17|    71.33|          13380|           0|       0|                0|\n",
      "|         3175|2019-08-22 21:37:41|       2063|        405|    92.91|          77861|           0|       0|                0|\n",
      "|         3749|2019-08-22 20:42:24|       2455|        423|    75.35|          74544|           0|       0|                0|\n",
      "+-------------+-------------------+-----------+-----------+---------+---------------+------------+--------+-----------------+\n",
      "only showing top 20 rows\n",
      "\n"
     ]
    }
   ],
   "source": [
    "df.show()"
   ]
  },
  {
   "cell_type": "code",
   "execution_count": 6,
   "id": "67932c13",
   "metadata": {},
   "outputs": [
    {
     "data": {
      "text/html": [
       "<div>\n",
       "<style scoped>\n",
       "    .dataframe tbody tr th:only-of-type {\n",
       "        vertical-align: middle;\n",
       "    }\n",
       "\n",
       "    .dataframe tbody tr th {\n",
       "        vertical-align: top;\n",
       "    }\n",
       "\n",
       "    .dataframe thead th {\n",
       "        text-align: right;\n",
       "    }\n",
       "</style>\n",
       "<table border=\"1\" class=\"dataframe\">\n",
       "  <thead>\n",
       "    <tr style=\"text-align: right;\">\n",
       "      <th></th>\n",
       "      <th>0</th>\n",
       "      <th>1</th>\n",
       "      <th>2</th>\n",
       "      <th>3</th>\n",
       "      <th>4</th>\n",
       "    </tr>\n",
       "  </thead>\n",
       "  <tbody>\n",
       "    <tr>\n",
       "      <th>summary</th>\n",
       "      <td>count</td>\n",
       "      <td>mean</td>\n",
       "      <td>stddev</td>\n",
       "      <td>min</td>\n",
       "      <td>max</td>\n",
       "    </tr>\n",
       "    <tr>\n",
       "      <th>tranaction_id</th>\n",
       "      <td>1879122447</td>\n",
       "      <td>9.399026627123606E8</td>\n",
       "      <td>5.426495235886582E8</td>\n",
       "      <td>0</td>\n",
       "      <td>1879791584</td>\n",
       "    </tr>\n",
       "    <tr>\n",
       "      <th>customer_id</th>\n",
       "      <td>1879122447</td>\n",
       "      <td>500428.5022185784</td>\n",
       "      <td>288559.10721771803</td>\n",
       "      <td>0</td>\n",
       "      <td>999999</td>\n",
       "    </tr>\n",
       "    <tr>\n",
       "      <th>terminal_id</th>\n",
       "      <td>1879122447</td>\n",
       "      <td>501.18719838271403</td>\n",
       "      <td>317.54928231300045</td>\n",
       "      <td>0</td>\n",
       "      <td>999</td>\n",
       "    </tr>\n",
       "    <tr>\n",
       "      <th>tx_amount</th>\n",
       "      <td>1879122447</td>\n",
       "      <td>54.232534740877654</td>\n",
       "      <td>41.28705509290461</td>\n",
       "      <td>0.01</td>\n",
       "      <td>16539.04</td>\n",
       "    </tr>\n",
       "    <tr>\n",
       "      <th>tx_time_seconds</th>\n",
       "      <td>1879122447</td>\n",
       "      <td>5.184082983006759E7</td>\n",
       "      <td>2.9929863070764977E7</td>\n",
       "      <td>0</td>\n",
       "      <td>103679999</td>\n",
       "    </tr>\n",
       "    <tr>\n",
       "      <th>tx_time_days</th>\n",
       "      <td>1879122447</td>\n",
       "      <td>599.5118438053547</td>\n",
       "      <td>346.4097189561111</td>\n",
       "      <td>0</td>\n",
       "      <td>1199</td>\n",
       "    </tr>\n",
       "    <tr>\n",
       "      <th>tx_fraud</th>\n",
       "      <td>1879122447</td>\n",
       "      <td>0.05924712366548618</td>\n",
       "      <td>0.23608664094461965</td>\n",
       "      <td>0</td>\n",
       "      <td>1</td>\n",
       "    </tr>\n",
       "    <tr>\n",
       "      <th>tx_fraud_scenario</th>\n",
       "      <td>1879122447</td>\n",
       "      <td>0.11934065784697638</td>\n",
       "      <td>0.47755787299001473</td>\n",
       "      <td>0</td>\n",
       "      <td>3</td>\n",
       "    </tr>\n",
       "  </tbody>\n",
       "</table>\n",
       "</div>"
      ],
      "text/plain": [
       "                            0                    1                     2  \\\n",
       "summary                 count                 mean                stddev   \n",
       "tranaction_id      1879122447  9.399026627123606E8   5.426495235886582E8   \n",
       "customer_id        1879122447    500428.5022185784    288559.10721771803   \n",
       "terminal_id        1879122447   501.18719838271403    317.54928231300045   \n",
       "tx_amount          1879122447   54.232534740877654     41.28705509290461   \n",
       "tx_time_seconds    1879122447  5.184082983006759E7  2.9929863070764977E7   \n",
       "tx_time_days       1879122447    599.5118438053547     346.4097189561111   \n",
       "tx_fraud           1879122447  0.05924712366548618   0.23608664094461965   \n",
       "tx_fraud_scenario  1879122447  0.11934065784697638   0.47755787299001473   \n",
       "\n",
       "                      3           4  \n",
       "summary             min         max  \n",
       "tranaction_id         0  1879791584  \n",
       "customer_id           0      999999  \n",
       "terminal_id           0         999  \n",
       "tx_amount          0.01    16539.04  \n",
       "tx_time_seconds       0   103679999  \n",
       "tx_time_days          0        1199  \n",
       "tx_fraud              0           1  \n",
       "tx_fraud_scenario     0           3  "
      ]
     },
     "execution_count": 6,
     "metadata": {},
     "output_type": "execute_result"
    }
   ],
   "source": [
    "df.describe().toPandas().T"
   ]
  },
  {
   "cell_type": "markdown",
   "id": "79dbab04",
   "metadata": {},
   "source": [
    "Итак, видно, что строк стало меньше, чем в начальном файле. Также были удалены строки с некорректными id"
   ]
  },
  {
   "cell_type": "code",
   "execution_count": 7,
   "id": "d412ee0c",
   "metadata": {},
   "outputs": [],
   "source": [
    "spark.stop()"
   ]
  }
 ],
 "metadata": {
  "kernelspec": {
   "display_name": "Python 3",
   "language": "python",
   "name": "python3"
  },
  "language_info": {
   "codemirror_mode": {
    "name": "ipython",
    "version": 3
   },
   "file_extension": ".py",
   "mimetype": "text/x-python",
   "name": "python",
   "nbconvert_exporter": "python",
   "pygments_lexer": "ipython3",
   "version": "3.8.10"
  }
 },
 "nbformat": 4,
 "nbformat_minor": 5
}
